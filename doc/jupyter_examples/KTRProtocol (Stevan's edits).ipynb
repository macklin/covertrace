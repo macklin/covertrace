{
 "cells": [
  {
   "cell_type": "code",
   "execution_count": null,
   "metadata": {
    "collapsed": false
   },
   "outputs": [],
   "source": [
    "from __future__ import division\n",
    "from covertrace.data_array import Sites\n",
    "from functools import partial\n",
    "import matplotlib.pyplot as plt\n",
    "import numpy as np\n",
    "import os\n",
    "from os.path import abspath, dirname, join\n",
    "from scipy.integrate import odeint\n",
    "from scipy.optimize import minimize\n",
    "from scipy.signal import savgol_filter\n",
    "import seaborn as sns\n",
    "import random\n",
    "random.seed(1)\n",
    "%matplotlib inline"
   ]
  },
  {
   "cell_type": "code",
   "execution_count": null,
   "metadata": {
    "collapsed": false
   },
   "outputs": [],
   "source": [
    "from covertrace.utils.kinase_estimation_inh import fit_params_inhibitor\n",
    "from covertrace.utils.kinase_estimation_dynamics import fit_trapezoid"
   ]
  },
  {
   "cell_type": "code",
   "execution_count": null,
   "metadata": {
    "collapsed": true
   },
   "outputs": [],
   "source": [
    "from covertrace import ops_filter\n",
    "from covertrace import ops_plotter\n",
    "from covertrace import ops_bool"
   ]
  },
  {
   "cell_type": "code",
   "execution_count": null,
   "metadata": {
    "collapsed": false
   },
   "outputs": [],
   "source": [
    "data_folder = join(dirname(dirname(dirname(abspath(os.curdir)))), 'covertrackdev', 'output')"
   ]
  },
  {
   "cell_type": "markdown",
   "metadata": {},
   "source": [
    "## KTR Model"
   ]
  },
  {
   "cell_type": "markdown",
   "metadata": {},
   "source": [
    "The following ordinary differential equations (ODE) models describe the dynamics of the phosphorylated/dephosphorylated reporter in nucleus/cytosol."
   ]
  },
  {
   "cell_type": "markdown",
   "metadata": {},
   "source": [
    "$\\dfrac{dr_{cu}}{dt} = -kin_c(t)\\cdot k_{cat}\\dfrac{r_{cu}}{r_{cu} + K_m} + k_{dc}\\cdot \\dfrac{r_{cp}}{r_{cp}+K_{md}} - k_{iu}\\cdot r_{cu} + k_{eu}\\cdot r_{nu}$  \n",
    "$\\dfrac{dr_{nu}}{dt} = -kin_n(t)\\cdot k_{cat}\\dfrac{r_{nu}}{r_{nu} + K_m} + k_{dn}\\cdot \\dfrac{r_{np}}{r_{np}+K_{md}} + k_v\\cdot k_{iu}\\cdot r_{cu} - k_v\\cdot k_{eu}\\cdot r_{nu}$  \n",
    "$\\dfrac{dr_{cp}}{dt} = kin_c(t)\\cdot k_{cat}\\dfrac{r_{cu}}{r_{cu} + K_m} - k_{dc}\\cdot \\dfrac{r_{cp}}{r_{cp}+K_{md}} - k_{ip}\\cdot r_{cp} + k_{ep}\\cdot r_{np}$  \n",
    "$\\dfrac{dr_{np}}{dt} = kin_n(t)\\cdot k_{cat}\\dfrac{r_{nu}}{r_{nu} + K_m} - k_{dn}\\cdot \\dfrac{r_{np}}{r_{np}+K_{md}} + k_v\\cdot k_{ip}\\cdot r_{cp} - k_v\\cdot k_{ep}\\cdot r_{np}$  \n",
    "$r_{cu} + r_{cp} + \\frac{1}{k_v} (r_{nu} + r_{np}) = r_{total}$\n"
   ]
  },
  {
   "cell_type": "markdown",
   "metadata": {},
   "source": [
    "|Symbol         |description| Units   |\n",
    "|:---:            |---|:---:|\n",
    "|$r_{total}$    |total concentration of reporters    |$\\mu M$|\n",
    "|$r_{cu}$       |cytosolic unphosphorylated reporter |$\\mu M$|\n",
    "|$r_{nu}$       |nuclear unphosphorylated reporter   |$\\mu M$|\n",
    "|$r_{cp}$       |cytosolic phosphorylated reporter   |$\\mu M$|\n",
    "|$r_{np}$       |nuclear phosphorylated reporter     |$\\mu M$|\n",
    "|$k_{iu}$       |nucler import of unphosphorylated reporter|$min^{-1}$|\n",
    "|$k_{eu}$       |nucler export of unphosphorylated reporter|$min^{-1}$|\n",
    "|$k_{ip}$       |nucler import of phosphorylated reporter|$min^{-1}$|\n",
    "|$k_{ep}$       |nucler export of phosphorylated reporter|$min^{-1}$|\n",
    "|$k_{cat}$      |catalytic rate constant of kinase and reporter |$min^{-1}$|\n",
    "|$K_{m}$        |Michaelis constant for kinase and reporter |$\\mu M$|\n",
    "|$k_{dc}$       |dephosphorylation $V_{max}$ of reporter in cytosol |$\\mu M\\cdot min^{-1}$|\n",
    "|$K_{md}$       |Michaelis constant for dephosphorylation of reporter |$\\mu M$|\n",
    "|$kin_c(t)$     |time dependent concentrations of active kinase in cytosol|$\\mu M$|\n",
    "|$kin_n(t)$     |time dependent concentrations of active kinase in nucleus|$\\mu M$|\n",
    "\n"
   ]
  },
  {
   "cell_type": "markdown",
   "metadata": {},
   "source": [
    "## Parameters from literature"
   ]
  },
  {
   "cell_type": "markdown",
   "metadata": {},
   "source": [
    "r<sub>total</sub> is the total concentration of the reporter in the cell.\n",
    "\n",
    "k<sub>cat</sub> is the rate at which the reporter gets phosphorylated by JNK.\n",
    "\n",
    "K<sub>m</sub> is the Michaelis-Menten constant for JNK. \n",
    "\n",
    "r<sub>total</sub>, k<sub>cat</sub> and K<sub>m</sub> are taken from previous works. "
   ]
  },
  {
   "cell_type": "code",
   "execution_count": null,
   "metadata": {
    "collapsed": true
   },
   "outputs": [],
   "source": [
    "r_total = 0.4  # uM\n",
    "k_cat = 20.0  # 1/min\n",
    "Km = 3.0  # uM"
   ]
  },
  {
   "cell_type": "markdown",
   "metadata": {
    "collapsed": false
   },
   "source": [
    "## Estimation of cytosolic to nuclear volume ratio: k<sub>v</sub>"
   ]
  },
  {
   "cell_type": "markdown",
   "metadata": {
    "collapsed": true
   },
   "source": [
    "First obtain the parameter k<sub>v</sub>, ratio of cytosolic volume to nuclear volume. "
   ]
  },
  {
   "cell_type": "markdown",
   "metadata": {},
   "source": [
    "We assume that the total reporter concentration is constant for the time-scale of our experiments. \n",
    "\n",
    "Therefore, $r_{c,1} + \\dfrac{r_{n,1}}{k_v} = r_{c,2} + \\dfrac{r_{n,2}}{k_v}$ where $r_{c,i}$ and $r_{n,i}$ are the cytosolic and nuclear concentrations of the reporter at condition *i*.  \n",
    "\n",
    "Solving for $k_v$, we get:  \n",
    "  \n",
    "$k_v = \\dfrac{r_{n,2} - r_{n,1}}{r_{c,1} - r_{c,2}}$.  \n",
    "A larger dynamic range in your data will give you a better signal to noise ratio, and thus a more accurate estimation of $k_v$.\n",
    "For this reason, we use the condition where the JNK KTR is activated by anisomycin and then inhibited by JNK inhibitor. "
   ]
  },
  {
   "cell_type": "code",
   "execution_count": null,
   "metadata": {
    "collapsed": false
   },
   "outputs": [],
   "source": [
    "parent_folder = join(data_folder, 'AnisoInh')\n",
    "sub_folders = ['Pos001']\n",
    "conditions = ['AnisoInh']\n",
    "sites = Sites(parent_folder, sub_folders, conditions, file_name='df_cleaned.npz')"
   ]
  },
  {
   "cell_type": "markdown",
   "metadata": {},
   "source": [
    "Take a look at the average traces for the median intensity of the cytoplasmic/nuclear (C/N) ratio. This dataset has already been cleaned."
   ]
  },
  {
   "cell_type": "code",
   "execution_count": null,
   "metadata": {
    "collapsed": false,
    "scrolled": true
   },
   "outputs": [],
   "source": [
    "sites.set_state(['cytoplasm', 'YFP', 'median_ratio'])\n",
    "plot_tsplot = partial(ops_plotter.plot_tsplot)\n",
    "fig, axes = sites.iterate(plot_tsplot)"
   ]
  },
  {
   "cell_type": "markdown",
   "metadata": {
    "collapsed": true
   },
   "source": [
    "You can see the cytoplasmic translocation of the JNK KTR at frame 5 when the cells are stimulated with anisomycin, followed by nuclear translocation at frame 18 when the cells are inhibited with JNK VIII inhibitor.  \n",
    "This combination of activation and inactivation will provide a large dynamic range, helping robust parameter estimation. "
   ]
  },
  {
   "cell_type": "markdown",
   "metadata": {},
   "source": [
    "Again, we use $k_v = \\dfrac{r_{n,2} - r_{n,1}}{r_{c,1} - r_{c,2}}$.  \n",
    "Let's use frame 10 to 16 and frame 18 to the end for our activated and inhibited conditions, respectively. "
   ]
  },
  {
   "cell_type": "code",
   "execution_count": null,
   "metadata": {
    "collapsed": false
   },
   "outputs": [],
   "source": [
    "site = sites.Pos001\n",
    "r_n_1 = np.nanmean(site.data['nuclei', 'YFP', 'median_intensity'][:, 10:17])\n",
    "r_n_2 = np.nanmean(site.data['nuclei', 'YFP', 'median_intensity'][:, 18:])\n",
    "r_c_1 = np.nanmean(site.data['cytoplasm', 'YFP', 'median_intensity'][:,10:17])\n",
    "r_c_2 = np.nanmean(site.data['cytoplasm', 'YFP', 'median_intensity'][:, 18:])\n",
    "estimated_k_v = (r_n_2 - r_n_1)/(r_c_1 - r_c_2)\n",
    "print 'k_v is {0:1.2f}'.format(estimated_k_v)"
   ]
  },
  {
   "cell_type": "markdown",
   "metadata": {},
   "source": [
    "Using these conditions, we estimate $k_v$ to be 3.36"
   ]
  },
  {
   "cell_type": "markdown",
   "metadata": {},
   "source": [
    "## Estimation of import and export rate constants: k<sub>iu</sub>, k<sub>eu</sub>, k<sub>ip</sub>, k<sub>ep</sub>"
   ]
  },
  {
   "cell_type": "markdown",
   "metadata": {
    "collapsed": false
   },
   "source": [
    "Cytoplasmic translocation of the KTR happens because phosphorylation both decreases the nuclear export rate and increases the nuclear import rate. \n",
    "So now we need to find the rate constants for the import ($k_i$) and export ($k_e$) of phosphorylated ($k_p$) and unphosphorylated ($k_u$) reporters.\n",
    "\n",
    "To estimate these constants, we utilize the fact that JNK KTR AA and EE mutants approximate the unphosphorylated and phosphorylated states of the wild-type JNK KTR, respectively. Since AA and EE mutants are not phosphorylated, we assume that k<sub>e/i</sub> for AA mutants is equal to k<sub>eu/iu</sub> and that k<sub>e/i</sub> for EE mutants is equal to k<sub>ep/ip</sub>."
   ]
  },
  {
   "cell_type": "code",
   "execution_count": null,
   "metadata": {
    "collapsed": false
   },
   "outputs": [],
   "source": [
    "parent_folder_mut = join(data_folder, 'LMB')\n",
    "sub_folders_mut = ['Pos004', 'Pos005']\n",
    "conditions_mut = ['JNK_AA', 'JNK_EE']\n",
    "sites_mut = Sites(parent_folder_mut, sub_folders_mut, conditions_mut, file_name='df_cleaned.npz')"
   ]
  },
  {
   "cell_type": "markdown",
   "metadata": {},
   "source": [
    "Leptomycin B (LMB) is a potent inhibitor of nuclear export. The cells are treated with LMB at frame 3 and you see a decrease in nuclear export led to a net nuclear translocation."
   ]
  },
  {
   "cell_type": "code",
   "execution_count": null,
   "metadata": {
    "collapsed": false
   },
   "outputs": [],
   "source": [
    "sites_mut.set_state(['cytoplasm', 'YFP', 'median_ratio'])\n",
    "fig, axes = sites_mut.iterate(plot_tsplot)\n",
    "axes[0].set_ylabel('C/N ratio')\n",
    "[ax.set_xlabel('Time (min)') for ax in axes]"
   ]
  },
  {
   "cell_type": "code",
   "execution_count": null,
   "metadata": {
    "collapsed": false
   },
   "outputs": [],
   "source": [
    "aa_ratio = sites_mut.Pos004.data['cytoplasm', 'YFP', 'median_ratio']\n",
    "ee_ratio = sites_mut.Pos005.data['cytoplasm', 'YFP', 'median_ratio']"
   ]
  },
  {
   "cell_type": "markdown",
   "metadata": {},
   "source": [
    "The efficiency of LMB inhibition varies from cell-to-cell. This is expressed by parameter $h$; upon inhibition at time *t<sub>inh</sub>*, export rate changes from $k_e$ to $hk_e$.  \n",
    "\n",
    "We use the following system of differential equations to decribe reporter concentration in the nucleus (r<sub>n</sub>) and cytoplasm (r<sub>c</sub>)."
   ]
  },
  {
   "cell_type": "markdown",
   "metadata": {
    "collapsed": false
   },
   "source": [
    "$\\dfrac{dr_c}{dt} = -k_i  r_c + k_e  r_n$  \n",
    "$\\dfrac{dr_n}{dt} = k_v  k_i  r_c - k_v  k_e  r_n$"
   ]
  },
  {
   "cell_type": "code",
   "execution_count": null,
   "metadata": {
    "collapsed": true
   },
   "outputs": [],
   "source": [
    "def ode_mutant_model(y, t, *args):\n",
    "    k_v, k_i, k_e = args[0], args[1], args[2]\n",
    "    r_c, r_n = y[0], y[1]\n",
    "    d_r_c = -k_i * r_c + k_e * r_n\n",
    "    d_r_n = k_v * k_i * r_c - k_v * k_e * r_n\n",
    "    return [d_r_c, d_r_n]"
   ]
  },
  {
   "cell_type": "markdown",
   "metadata": {},
   "source": [
    "The initial steady state of the system is $\\dfrac{k_e}{k_i}$, and the steady state after the inhibition will be $\\dfrac{hk_e}{k_i}$. \n",
    "We can use these values to estimate *h* for each cell."
   ]
  },
  {
   "cell_type": "code",
   "execution_count": null,
   "metadata": {
    "collapsed": true
   },
   "outputs": [],
   "source": [
    "h_aa, h_ee = [], []\n",
    "for cell in aa_ratio:\n",
    "    h_aa.append(np.mean(cell[30:])/np.mean(cell[:3]))\n",
    "for cell in ee_ratio:\n",
    "    h_ee.append(np.mean(cell[30:])/np.mean(cell[:12]))"
   ]
  },
  {
   "cell_type": "markdown",
   "metadata": {},
   "source": [
    "We would like to find the parameters $h$, $k_e$ and $k_i$ such that the model reproduces the time series of the LMBB treatment experiment. Write a function that receives $h$, $k_e$ and $k_i$ and returns the predicted time series of the C/N ratio."
   ]
  },
  {
   "cell_type": "code",
   "execution_count": null,
   "metadata": {
    "collapsed": false
   },
   "outputs": [],
   "source": [
    "def calc_ts_sim_ratio(x, time, k_v, t_inh, h):\n",
    "    ei_ratio = x[0]\n",
    "    k_i = x[1]\n",
    "    k_e = ei_ratio * k_i\n",
    "    \n",
    "    ini_r_c = 1.0\n",
    "    ini_r_n = 1.0/ei_ratio\n",
    "    params = (k_v, k_i, k_e)\n",
    "    # Simulate before inhibition\n",
    "    ts_pre_inh = odeint(ode_mutant_model, [ini_r_c, ini_r_n], time[time<t_inh], params, rtol=1e-4)\n",
    "    r_pre_inh = np.array([i[0]/i[1] for i in ts_pre_inh])  # convert reporter profile to cytoplasmic/nuclear ratio\n",
    "    params = (k_v, k_i, k_e * h)\n",
    "    # Simulate after inhibition\n",
    "    ts_post_inh = odeint(ode_mutant_model, [ts_pre_inh[-1, 0], ts_pre_inh[-1, 1]], time[time>=t_inh], params, rtol=1e-4)\n",
    "    r_post_inh = np.array([i[0]/i[1] for i in ts_post_inh])  # convert reporter profile to cytoplasmic/nuclear ratio\n",
    "    return np.concatenate((r_pre_inh, r_post_inh))"
   ]
  },
  {
   "cell_type": "markdown",
   "metadata": {},
   "source": [
    "To begin with, run a simulation just for a single cell with an EE mutant reporter.  \n",
    "Since EE mutants reach steady state around frame 30, we will simulate the decay from frame 0 to frame 30.  \n",
    "Before stimulation, $\\dfrac{k_e}{k_i} = \\dfrac{r_c}{r_n}$."
   ]
  },
  {
   "cell_type": "code",
   "execution_count": null,
   "metadata": {
    "collapsed": false
   },
   "outputs": [],
   "source": [
    "bnds = ((1e-6, None), (1e-6, None))  # boundary for h, k_i and k_e\n",
    "time_ee = np.concatenate((np.arange(0, 28, 2), np.arange(28, 48.5, 0.5)))\n",
    "t_inh_ee = 27.5\n",
    "\n",
    "t_start = None\n",
    "tidx = time_ee >= t_start\n",
    "time_ee = time_ee[tidx]\n",
    "cell_id = 2\n",
    "first_cell = ee_ratio[cell_id, :][tidx]  # time-series of C/N ratio of a cell.\n",
    "\n",
    "func = lambda x: ((calc_ts_sim_ratio(x, time_ee, estimated_k_v, t_inh_ee, h_ee[cell_id]) - first_cell)**2).sum()  # cost function\n",
    "ret = minimize(func, x0=[np.mean(first_cell[:1]), 0.1], bounds=bnds, method='L-BFGS-B')  # run the optimization\n",
    "est_ei_ratio, est_k_i = ret.x  # parameters\n",
    "est_k_e = est_ei_ratio * est_k_i\n",
    "print 'k_e and k_i are estimated to be {0:1.3f} and {1:1.3f} for this cell.'.format(est_k_e, est_k_i)"
   ]
  },
  {
   "cell_type": "markdown",
   "metadata": {},
   "source": [
    "After estimating the parameters, we can compare the predicted time series and experimental time series for this cell."
   ]
  },
  {
   "cell_type": "code",
   "execution_count": null,
   "metadata": {
    "collapsed": false
   },
   "outputs": [],
   "source": [
    "ts_pre_inh = odeint(ode_mutant_model, [est_k_e, est_k_i], time_ee[time_ee<=t_inh_ee],  (estimated_k_v, est_k_i, est_k_e), rtol=1e-4)\n",
    "ts_post_inh = odeint(ode_mutant_model, [est_k_e, est_k_i], time_ee[time_ee>t_inh_ee],  (estimated_k_v, est_k_i, h_ee[cell_id] * est_k_e), rtol=1e-4)\n",
    "\n",
    "plt.plot(time_ee, np.concatenate(([i[0]/i[1] for i in ts_pre_inh], [i[0]/i[1] for i in ts_post_inh])))\n",
    "plt.hold(True)\n",
    "plt.plot(time_ee, first_cell, 'r');"
   ]
  },
  {
   "cell_type": "markdown",
   "metadata": {},
   "source": [
    "Now we expand this for all the cells in the experiement. "
   ]
  },
  {
   "cell_type": "code",
   "execution_count": null,
   "metadata": {
    "collapsed": false
   },
   "outputs": [],
   "source": [
    "param_ee_store = []\n",
    "for cell, sc_h in zip(ee_ratio, h_ee):\n",
    "    func = lambda x: ((calc_ts_sim_ratio(x, time_ee, estimated_k_v, t_inh_ee, sc_h) - cell[tidx])**2).sum()\n",
    "    ret = minimize(func, x0=[np.mean(cell[:3]), 0.1], bounds=bnds, method='L-BFGS-B', tol=1e-12)\n",
    "    if ret.success:\n",
    "        param_ee_store.append(ret.x)\n",
    "est_k_ip = [i[1] for i in param_ee_store]\n",
    "est_k_ep = [i[0]*i[1] for i in param_ee_store]"
   ]
  },
  {
   "cell_type": "markdown",
   "metadata": {},
   "source": [
    "Repeat the process and run a simulation for all the cells with AA mutant reporters.  \n",
    "Parameter estimation for AA mutants is more sensitive than EE mutants due to the reporter's small dynamic range.  "
   ]
  },
  {
   "cell_type": "code",
   "execution_count": null,
   "metadata": {
    "collapsed": false
   },
   "outputs": [],
   "source": [
    "param_aa_store = []\n",
    "\n",
    "time_aa = np.arange(0, 40) * 0.5 # /min, Imaged every 30 sec\n",
    "t_inh_aa = 2.0   # /min, timing of inihibiton\n",
    "for cell, sc_h in zip(aa_ratio, h_aa):\n",
    "    func = lambda x: ((calc_ts_sim_ratio(x, time_aa, estimated_k_v, t_inh_aa, sc_h) - cell)**2).sum()\n",
    "    ret = minimize(func, x0=[np.mean(cell[:3]), 0.1], bounds=bnds, method='L-BFGS-B', tol=1e-12)\n",
    "    if ret.success:\n",
    "        param_aa_store.append(ret.x)\n",
    "\n",
    "est_k_eu = [i[0]*i[1] for i in param_aa_store]\n",
    "est_k_iu = [i[1] for i in param_aa_store]"
   ]
  },
  {
   "cell_type": "code",
   "execution_count": null,
   "metadata": {
    "collapsed": false
   },
   "outputs": [],
   "source": [
    "ax = sns.boxplot(data=[est_k_iu, est_k_ip, est_k_eu, est_k_ep])\n",
    "ax.set_xticklabels(['$k_{iu}$', '$k_{ip}$', '$k_{eu}$', '$k_{ep}$'], fontsize=15);\n",
    "print \"k_iu:{0:1.3}\\tk_ip:{1:1.3}\\nk_eu:{2:1.3}\\tk_ep:{3:1.3}\".format(np.nanmedian(est_k_iu), np.nanmedian(est_k_ip), np.nanmedian(est_k_eu), np.nanmedian(est_k_ep))"
   ]
  },
  {
   "cell_type": "markdown",
   "metadata": {
    "collapsed": false
   },
   "source": [
    "As expected, you can see that the estimated import rate is larger for unphosphorylated reporters, whereas the export rate is larger for phosphorylated reporters.  \n",
    "The combination of these effects causes the cytoplasmic translocation of KTRs upon phosphorylation."
   ]
  },
  {
   "cell_type": "markdown",
   "metadata": {},
   "source": [
    "## Estimation of dephosphorylation parameters: k<sub>d</sub> and K<sub>md</sub>"
   ]
  },
  {
   "cell_type": "markdown",
   "metadata": {},
   "source": [
    "k<sub>d</sub> and K<sub>md</sub> are the maximum dephosphorylation rate and Michaelis-Menten constant of reporter dephosphorylation, respectively. Here we assume k<sub>d</sub> is equal in both the cytosol and nucleus."
   ]
  },
  {
   "cell_type": "code",
   "execution_count": null,
   "metadata": {
    "collapsed": false
   },
   "outputs": [],
   "source": [
    "sites.staged.state = ['cytoplasm', 'YFP', 'median_ratio']\n",
    "plot_tsplot = partial(ops_plotter.plot_tsplot)\n",
    "fig, axes = sites.iterate(plot_tsplot)\n",
    "site = sites.Pos001"
   ]
  },
  {
   "cell_type": "markdown",
   "metadata": {},
   "source": [
    "We fit $k_d$ and $K_{md}$ to a model such that it reproduces the decay of the C/N ratio after kinase inhibitor treatment at frame 18.\n",
    "We assume that JNK inhibitor begins inhibition instantly after it is applied to the cells, and that the extent of inhibition varies from cell to cell. "
   ]
  },
  {
   "cell_type": "markdown",
   "metadata": {},
   "source": [
    "We are going to use the average import/export rate constants estimated in the previous section. First, make a dictionary containing the parameter set."
   ]
  },
  {
   "cell_type": "code",
   "execution_count": null,
   "metadata": {
    "collapsed": false
   },
   "outputs": [],
   "source": [
    "param_set = dict(k_v=estimated_k_v, \n",
    "                 k_iu=np.nanmedian(est_k_iu), k_eu=np.nanmedian(est_k_eu), \n",
    "                 k_ip=np.nanmedian(est_k_ip), k_ep=np.nanmedian(est_k_ep),\n",
    "                 k_cat=k_cat, Km=Km, r_total=r_total)"
   ]
  },
  {
   "cell_type": "markdown",
   "metadata": {},
   "source": [
    "Now make a model for the KTR system describing the phosphorylation, dephosphorylation, and nuclear-cytosolic shuttling of the KTR. "
   ]
  },
  {
   "cell_type": "code",
   "execution_count": null,
   "metadata": {
    "collapsed": false
   },
   "outputs": [],
   "source": [
    "def main_ode(y, t, p):\n",
    "    \"\"\"kin_c_func and kin_n_func are the functions that return the active kinase concentration at time t. \n",
    "    \"\"\"\n",
    "    c_u, n_u, c_p, n_p = y[0], y[1], y[2], y[3]\n",
    "\n",
    "    k_v = p['k_v']\n",
    "    k_iu, k_eu, k_ip, k_ep = p['k_iu'], p['k_eu'], p['k_ip'], p['k_ep']\n",
    "    k_cat, Km, r_total = p['k_cat'], p['Km'], p['r_total']\n",
    "    k_dc, k_dn, Kmd = p['k_d'], p['k_d'], p['Kmd']\n",
    "    kin_c_func, kin_n_func = p['kin_c_func'], p['kin_n_func']\n",
    "\n",
    "    d_c_u = -kin_c_func(t) * k_cat * c_u/(c_u + Km) + k_dc * c_p/(c_p + Kmd) - k_iu * c_u + k_eu * n_u\n",
    "    d_n_u = -kin_n_func(t) * k_cat * n_u/(n_u + Km) + k_dn * n_p/(n_p + Kmd) + k_v * k_iu * c_u - k_v * k_eu * n_u\n",
    "    d_c_p = kin_c_func(t) * k_cat * c_u/(c_u + Km) - k_dc * c_p/(c_p + Kmd) - k_ip * c_p + k_ep * n_p\n",
    "    d_n_p = r_total - c_u - n_u/k_v - c_p - n_p/k_v\n",
    "    return [d_c_u, d_n_u, d_c_p, d_n_p]"
   ]
  },
  {
   "cell_type": "markdown",
   "metadata": {},
   "source": [
    "We assume the system is in steady state before inhibiton, thus at a given C/N ratio, we can calculate the reporter profile ($r_{cu}$, $r_{nu}$, $r_{cp}$, $r_{np}$) such that $dr/dt$ is 0.\n",
    "\n",
    "Write a function that will calculate the reporter profile given an active kinase concentration."
   ]
  },
  {
   "cell_type": "code",
   "execution_count": null,
   "metadata": {
    "collapsed": false
   },
   "outputs": [],
   "source": [
    "def calc_rep_profile_at_steady_state(kin, pset):\n",
    "    \"\"\"At given kinase concentration and parameters,\n",
    "    simulate the reporter profile (c_u, n_u, c_p, c_p)\n",
    "    such that it minimizes sum of squared dy, assuming the pseudo-steady state.\n",
    "    \n",
    "    Output: reporter profile, \n",
    "    \"\"\"\n",
    "    ub = pset['r_total']\n",
    "    pset['kin_c_func'] = lambda t: np.interp(t, [0, 1], [float(kin), float(kin)])\n",
    "    pset['kin_n_func'] = lambda t: np.interp(t, [0, 1], [float(kin), float(kin)])\n",
    "    x0 = [ub, 0, 0, 0]\n",
    "\n",
    "    func = lambda y: (np.array(main_ode(y, 0, pset))**2).sum()\n",
    "    ret = minimize(func, x0=x0, method='Powell', tol=1e-3)\n",
    "    return ret.x\n",
    "\n",
    "def calc_rcn_at_steady_state(kin, pset):\n",
    "    \"\"\"At given kinase concentration and parameters, simulate the C/N ratio\n",
    "    such that it minimizes sum of squared dy, assuming the pseudo-steady state.\n",
    "    \"\"\"\n",
    "    x = calc_rep_profile_at_steady_state(kin, pset)\n",
    "    return (x[0] + x[2])/(x[1] + x[3])"
   ]
  },
  {
   "cell_type": "code",
   "execution_count": null,
   "metadata": {
    "collapsed": false
   },
   "outputs": [],
   "source": [
    "KIN_MAX = 3.0\n",
    "def inhibitor_ode(x, time, rcn_init, rcn_final, pset):\n",
    "    pset['k_d'] = x[0]\n",
    "    pset['Kmd'] = x[1]\n",
    "    # Calculate kinase concentration at steady state such that it matches with given rcn\n",
    "    kin_ini = estim_steady_state_kinase(rcn_init, pset, bnd_max=KIN_MAX)\n",
    "    # At given kinase concentration, calculate reporter profile.\n",
    "    y0 = calc_rep_profile_at_steady_state(kin_ini, pset)\n",
    "    # At given rcn_final, calculate kinase concentration at the final steady state.\n",
    "    kin_after_inh = estim_steady_state_kinase(rcn_final, pset, bnd_max=kin_ini)\n",
    "    pset['kin_c_func'] = lambda t: np.interp(t, [time[0], time[-1]], [kin_after_inh, kin_after_inh])\n",
    "    pset['kin_n_func'] = lambda t: np.interp(t, [time[0], time[-1]], [kin_after_inh, kin_after_inh])\n",
    "    # At time 0, inihibition started. kinase is inactive so it follows kinase (rcn_final)\n",
    "    # but reporter profile at time 0 follows y0. Calculate cytoplasmic to nuclear times series.\n",
    "    ts = odeint(main_ode, y0, time, (pset, ), rtol=1e-4)\n",
    "    return (ts[:, 0] + ts[:, 2])/(ts[:, 1] + ts[:, 3])\n",
    "\n",
    "def estim_steady_state_kinase(rcn, pset, bnd_min=0, bnd_max=None):\n",
    "    \"\"\"Given C/N ratio at the steady state, return active kinase concentration.\n",
    "    \"\"\"\n",
    "    func1 = lambda kin1: ((calc_rcn_at_steady_state(kin1, pset) - rcn)**2).sum()\n",
    "    ret1 = minimize(func1, x0=[0.01], bounds=((bnd_min, bnd_max), ), tol=1e-4)\n",
    "    return ret1.x[0]"
   ]
  },
  {
   "cell_type": "markdown",
   "metadata": {},
   "source": [
    "FIXME: why we limit Kmd as r_total... can you add one sentence to reaosn it bette.r "
   ]
  },
  {
   "cell_type": "markdown",
   "metadata": {},
   "source": [
    "Estimating $k_d$ and $K_{md}$ with this model is a difficult task, as the possible solution space is large.  \n",
    "For simplicity, we will fit with the population average time-series as opposed to each single-cell trace.  \n",
    "\n",
    "We will first guess the initial values by looping over some parameter range in the model. Note, that we bound the upper limit of $K_{md}$ as $r_{total}$. $K_{md}$ and $k_d$ have opposite effects in the Michaelis-Menten equation ($k_d$ is in the numerator, $K_{md}$ is in the denominator), thus they can counteract each other, so it is important to limit one of them, and it is unlikely that $K_{md}$ would be as large as $r_{total}$."
   ]
  },
  {
   "cell_type": "code",
   "execution_count": null,
   "metadata": {
    "collapsed": false
   },
   "outputs": [],
   "source": [
    "# The estimation of the initial values.. \n",
    "med_rcn = np.nanmean(site.data['cytoplasm', 'YFP', 'median_ratio'], axis=0)\n",
    "rcn_init = np.nanmean(med_rcn[18])\n",
    "rcn_final = med_rcn[-1]\n",
    "decay_rcn = med_rcn[18:]\n",
    "\n",
    "time = np.arange(len(decay_rcn)) * 5  # every 5 min\n",
    "func = lambda x: ((inhibitor_ode(x, time, rcn_init, rcn_final, param_set) - decay_rcn)**2).sum()  # cost function\n",
    "\n",
    "# To avoid trapped in local solution, we will first estimate initial values by looping over in a log-scale.\n",
    "kd_range, kmd_range = np.logspace(-2, 0, 5), np.logspace(-2, np.log10(param_set['r_total']), 5)\n",
    "\n",
    "store = [np.Inf, np.Inf, np.Inf]\n",
    "for kdi in kd_range:\n",
    "    for kmdi in kmd_range:\n",
    "        res = func([kdi, kmdi])\n",
    "        if store[0] > res:\n",
    "            store = [res, kdi, kmdi]\n",
    "ini_kd, ini_kmd = store[1], store[2]\n",
    "print ini_kd, ini_kmd"
   ]
  },
  {
   "cell_type": "markdown",
   "metadata": {},
   "source": [
    "Now we estimate $k_d$ and $K_{md}$ using the initial guesses we just estimated. \n"
   ]
  },
  {
   "cell_type": "code",
   "execution_count": null,
   "metadata": {
    "collapsed": false
   },
   "outputs": [],
   "source": [
    "# The estimation of k_d and Kmd for all the single cells takes a time.\n",
    "cons = ({'type': 'ineq', 'fun': lambda x: x[0]},\n",
    "        {'type': 'ineq', 'fun': lambda x: x[1]},\n",
    "        {'type': 'ineq', 'fun': lambda x: KIN_MAX - x[0]},\n",
    "        {'type': 'ineq', 'fun': lambda x: param_set['r_total'] - x[1]})\n",
    "ret = minimize(func, x0=[ini_kd, ini_kmd], constraints=cons, method='COBYLA', tol=1e-4)\n",
    "est_k_d, est_Kmd = ret.x[0], ret.x[1]\n",
    "\n",
    "param_set['k_d'] = est_k_d\n",
    "param_set['Kmd'] = est_Kmd\n",
    "\n",
    "plt.plot(inhibitor_ode([est_k_d, est_Kmd], time, rcn_init, rcn_final, param_set))\n",
    "plt.hold(True)\n",
    "plt.plot(decay_rcn, 'r')\n",
    "print 'The estimated k_d and Kmd for this cell is {0:1.3f} and {1:1.3f}'.format(est_k_d, est_Kmd)"
   ]
  },
  {
   "cell_type": "markdown",
   "metadata": {},
   "source": [
    "## Absolute kinase concentration"
   ]
  },
  {
   "cell_type": "markdown",
   "metadata": {},
   "source": [
    "Now we have obtained all of the parameters we need to estimate absolute kinase concentration over time. \n",
    "First, plot a simulated relationship between the C/N ratio and active JNK at steady state."
   ]
  },
  {
   "cell_type": "code",
   "execution_count": null,
   "metadata": {
    "collapsed": false
   },
   "outputs": [],
   "source": [
    "st = []\n",
    "for i in np.arange(0, 1.4, 0.05):\n",
    "    st.append(estim_steady_state_kinase(i, param_set) * 1000)  # in nM\n",
    "plt.semilogx(st, np.arange(0, 1.4, 0.05))\n",
    "plt.xlabel('active JNK (nM)')\n",
    "plt.ylabel('C/N Ratio')"
   ]
  },
  {
   "cell_type": "markdown",
   "metadata": {},
   "source": [
    "You can see that the simulation gets unstable when the amount of active JNK is above 1000 nM.  \n",
    "Presumably, the model cannot extrapolate past the upper bound of training data, so we will constrain the upper limit of active JNK to this value in the later simulations.  "
   ]
  },
  {
   "cell_type": "code",
   "execution_count": null,
   "metadata": {
    "collapsed": false
   },
   "outputs": [],
   "source": [
    "KIN_MAX = 1.0  # 1uM"
   ]
  },
  {
   "cell_type": "markdown",
   "metadata": {},
   "source": [
    "Now, let's calculate the time-series of JNK stimulated with IL1$\\beta$. "
   ]
  },
  {
   "cell_type": "code",
   "execution_count": null,
   "metadata": {
    "collapsed": false
   },
   "outputs": [],
   "source": [
    "parent_folder = join(data_folder, 'IL1B')\n",
    "sub_folders = ['Pos005', 'Pos006', 'Pos007', 'Pos008']\n",
    "conditions = ['IL1B', 'IL1B', 'IL1B', 'IL1B']\n",
    "sites_il1b = Sites(parent_folder, sub_folders, conditions, file_name='df_cleaned.npz')\n",
    "sites_il1b.staged.new_file_name = 'merged.npz'\n",
    "sites_il1b.merge_conditions()"
   ]
  },
  {
   "cell_type": "code",
   "execution_count": null,
   "metadata": {
    "collapsed": false
   },
   "outputs": [],
   "source": [
    "sites_il1b.set_state((['cytoplasm', 'TRITC', 'median_ratio'], ['cytoplasm', 'YFP', 'median_ratio']))\n",
    "plot_all = partial(ops_plotter.plot_all)\n",
    "fig, axes = sites_il1b.iterate(plot_all)"
   ]
  },
  {
   "cell_type": "markdown",
   "metadata": {},
   "source": [
    "In this experiment, cells express the JNK KTR AE mutant (right) in addition to the JNK KTR (left).  \n",
    "The variability observed in the JNK KTR AE mutant is a reflection of the noise in the endogenous export and import rates. We can use these data to correct for the variability in import and export in individual cells. \n",
    "\n",
    "For each cell, we calculate the average C/N ratio over time and then divide it by the average population C/N ratio. This value is *q*, the noise factor in export/import.  \n",
    "We correct the mean value of the estimated $k_e$ and $k_i$ using $q$ for each cell. "
   ]
  },
  {
   "cell_type": "code",
   "execution_count": null,
   "metadata": {
    "collapsed": false
   },
   "outputs": [],
   "source": [
    "site_il1b = sites_il1b.Pos005\n",
    "mean_yfp = np.nanmean(site_il1b.data['cytoplasm', 'YFP', 'median_ratio'], axis=0)\n",
    "q_store = []\n",
    "for cell in site_il1b.data['cytoplasm', 'YFP', 'median_ratio']:\n",
    "    q_store.append(np.mean(cell/mean_yfp))\n",
    "\n",
    "k_iu_sc, k_ip_sc, k_eu_sc, k_ep_sc = [], [], [], []\n",
    "for q in q_store:\n",
    "    k_iu_sc.append(np.nanmean(est_k_iu)/q)\n",
    "    k_ip_sc.append(np.nanmean(est_k_ip)/q)\n",
    "    k_eu_sc.append(np.nanmean(est_k_eu) * q)\n",
    "    k_ep_sc.append(np.nanmean(est_k_ep) * q) "
   ]
  },
  {
   "cell_type": "markdown",
   "metadata": {},
   "source": [
    "Now let's start with a single cell."
   ]
  },
  {
   "cell_type": "code",
   "execution_count": null,
   "metadata": {
    "collapsed": false
   },
   "outputs": [],
   "source": [
    "cell_id = 3\n",
    "time = np.arange(0, 150, 2.5)  # in minute\n",
    "single_rcn = site_il1b.data['cytoplasm', 'TRITC', 'median_ratio'][cell_id, :]\n",
    "plt.plot(time, single_rcn)\n",
    "plt.ylabel('C/N ratio')\n",
    "plt.xlabel('Time (min)')"
   ]
  },
  {
   "cell_type": "markdown",
   "metadata": {},
   "source": [
    "First, to reduce the complexity of parameter estimation, we assume that time-course of active JNK, as well as C/N ratio with IL1-$\\beta$ treatment, can be modeled using the trapezoid function below.    \n",
    "This part might not be necessary but reduces the calculation cost. (CITATION)\n",
    "<img src=\"../../data/trapezoid.jpg\" width=\"300\">"
   ]
  },
  {
   "cell_type": "markdown",
   "metadata": {},
   "source": [
    "To first make a initial guess, we also fit the time-series with the trapezoid function to obtain the approximate time for t1 to t4. "
   ]
  },
  {
   "cell_type": "code",
   "execution_count": null,
   "metadata": {
    "collapsed": true
   },
   "outputs": [],
   "source": [
    "def trapezoid_func(t, ct1, ct2, ct3, ct4, c1, c2, c3):\n",
    "    \"\"\"Trapezoid function.\n",
    "    ct1 = t1\n",
    "    ct2 = t1 + t2\n",
    "    ct3 = t1 + t2 + t3\n",
    "    ct4 = t1 + t2 + t3 + t4\n",
    "    \n",
    "    \"\"\"\n",
    "    if t <= ct1:\n",
    "        return c1\n",
    "    elif (t > ct1) and (t <= ct2):\n",
    "        return c1 + (c2 - c1) * (t-ct1)/(ct2-ct1)\n",
    "    elif (t > ct2) and (t <= ct3):\n",
    "        return c2\n",
    "    elif (t > ct3) and (t <= ct4):\n",
    "        return c2 - (c2 - c3) * (t-ct3)/(ct4-ct3)\n",
    "    elif t > ct4:\n",
    "        return c3"
   ]
  },
  {
   "cell_type": "markdown",
   "metadata": {},
   "source": [
    "Now, since we assume the data can be fit with the trapezoid function, we would like to capture the dynamics of first peak (mostly ~50 min) in particular.  \n",
    "Thus, we put some emphasis on the fitting results before 50 min in the following cost function. This makes fitting to noisy data more robust."
   ]
  },
  {
   "cell_type": "code",
   "execution_count": null,
   "metadata": {
    "collapsed": true
   },
   "outputs": [],
   "source": [
    "def trapezoid_err(params, t, y, w=5, tw=50):\n",
    "    \"\"\"cost function for trapezoid fitting. w is picked ad hoc.\"\"\"\n",
    "    weights = np.ones(len(t))\n",
    "    weights[t <= tw] = w\n",
    "    y_p = np.zeros(y.shape)\n",
    "    for num, ti in enumerate(t):\n",
    "        y_p[num] = trapezoid_func(np.float(ti)/t.max(), *params)\n",
    "    return ((y - y_p)**2 * weights).sum()"
   ]
  },
  {
   "cell_type": "code",
   "execution_count": null,
   "metadata": {
    "collapsed": true
   },
   "outputs": [],
   "source": [
    "def fit_trapezoid(t, y, p0=None, tbuf=[0.05, 0.05, 0.05]):\n",
    "    if p0 is None:\n",
    "        p0 = [0.2, 0.4, 0.6, 0.8, y[0], y.max(), y[-1]]\n",
    "    # This is the constraints for trapezoid parameters.\n",
    "    cons = ({'type': 'ineq', 'fun': lambda x:  x[1] - x[0] - tbuf[0]},  # t1 < t2\n",
    "            {'type': 'ineq', 'fun': lambda x:  x[2] - x[1] - tbuf[1]},  # t2 < t3\n",
    "            {'type': 'ineq', 'fun': lambda x:  x[3] - x[2] - tbuf[2]},  # t3 < t4\n",
    "            {'type': 'ineq', 'fun': lambda x:  x[5] - x[4]},  # c1 < c2\n",
    "            {'type': 'ineq', 'fun': lambda x:  x[5] - x[6]},  # c3 < c2\n",
    "            {'type': 'ineq', 'fun': lambda x:  x})  # non-negative parameters\n",
    "    bnds = ((0, 1), ) * 4 + ((y.min(), y.max()), ) * 3\n",
    "    fun = partial(trapezoid_err, t=t, y=y)\n",
    "    res = minimize(fun, p0, constraints=cons, bounds=bnds, tol=1e-12, options=dict(max_iter=10000))\n",
    "    # convert Ts from relative to absolute time.\n",
    "    Ts = np.interp(res.x[:4], np.linspace(0, 1, len(t)), t)\n",
    "    return np.concatenate((Ts, res.x[4:]))"
   ]
  },
  {
   "cell_type": "code",
   "execution_count": null,
   "metadata": {
    "collapsed": false
   },
   "outputs": [],
   "source": [
    "ct1, ct2, ct3, ct4, c1, c2, c3 = fit_trapezoid(time, single_rcn)\n",
    "kin_func = lambda t: np.interp(t, [ct1, ct2, ct3, ct4, time[-1]], [c1, c2, c2, c3, c3])\n",
    "plt.plot(time, kin_func(time))\n",
    "plt.hold(True)\n",
    "plt.plot(time, single_rcn, 'r')\n",
    "plt.legend(['Trapezoid fit', 'experimental values'])\n",
    "plt.ylabel('C/N ratio')\n",
    "plt.xlabel('Time (min)')"
   ]
  },
  {
   "cell_type": "markdown",
   "metadata": {},
   "source": [
    "The fit looks good and we have acquired initial values for t1 to t4.  \n",
    "Note that t1 to t4 are normalized by the last time point to have a scale from 0 to 1."
   ]
  },
  {
   "cell_type": "code",
   "execution_count": null,
   "metadata": {
    "collapsed": true
   },
   "outputs": [],
   "source": [
    "def normt1_to_ct1(rt1, rt2, rt3, rt4, time):\n",
    "    \"\"\"convert normalized t1 to cumulative time.\"\"\"\n",
    "    ct1 = rt1 * time[-1]\n",
    "    ct2 = (rt1 + rt2) * time[-1]\n",
    "    ct3 = (rt1 + rt2 + rt3) * time[-1]\n",
    "    ct4 = (rt1 + rt2 + rt3 + rt4) * time[-1]\n",
    "    return ct1, ct2, ct3, ct4\n",
    "\n",
    "def ct1_to_normt1(ct1, ct2, ct3, ct4, time):\n",
    "    \"\"\"convert cumulative time to normalized t1.\"\"\"\n",
    "    t1 = ct1/time[-1]\n",
    "    t2 = (ct2 - ct1)/time[-1]\n",
    "    t3 = (ct3 - ct2)/time[-1]\n",
    "    t4 = (ct4 - ct3)/time[-1]\n",
    "    return t1, t2, t3, t4\n",
    "\n",
    "ini_t1, ini_t2, ini_t3, ini_t4 = ct1_to_normt1(ct1, ct2, ct3, ct4, time)  # initial values"
   ]
  },
  {
   "cell_type": "code",
   "execution_count": null,
   "metadata": {
    "collapsed": true
   },
   "outputs": [],
   "source": [
    "def kinase_dynamics_ode(kins, time, pset, k1):\n",
    "    \"\"\"receives kinase concentration corresponding to C1, C2 and C3 and run a simulation based on those.\"\"\"\n",
    "    k2, k3, t1, t2, t3, t4 = kins\n",
    "    # get model to steady state\n",
    "    rep0 = calc_rep_profile_at_steady_state(k1, pset)\n",
    "    ct1, ct2, ct3, ct4 = normt1_to_ct1(t1, t2, t3, t4, time)\n",
    "    t_kins = [ct1, ct2, ct3, ct4, time[-1]]\n",
    "    \n",
    "    pset['kin_c_func'] = lambda t: np.interp(t, t_kins, [k1, k2, k2, k3, k3])\n",
    "    pset['kin_n_func'] = lambda t: np.interp(t, t_kins, [k1, k2, k2, k3, k3])\n",
    "    ts = odeint(main_ode, rep0, time, (pset, ))\n",
    "    return ts\n",
    "\n",
    "def rcn_dynamics_ode(kins, time, pset, k1):\n",
    "    rep = kinase_dynamics_ode(kins, time, pset, k1)\n",
    "    return (rep[:, 0] + rep[:, 2])/(rep[:, 1] + rep[:, 3])"
   ]
  },
  {
   "cell_type": "code",
   "execution_count": null,
   "metadata": {
    "collapsed": false
   },
   "outputs": [],
   "source": [
    "# Set the corrected import and export rate constants for this cell to the param_set.\n",
    "param_set['k_iu'] = k_iu_sc[cell_id]\n",
    "param_set['k_ip'] = k_ip_sc[cell_id]\n",
    "param_set['k_eu'] = k_eu_sc[cell_id]\n",
    "param_set['k_ep'] = k_ep_sc[cell_id]\n",
    "kin_ini = estim_steady_state_kinase(single_rcn[0], param_set, bnd_max=KIN_MAX)  \n",
    "kin_fin = estim_steady_state_kinase(c3, param_set, bnd_max=KIN_MAX)"
   ]
  },
  {
   "cell_type": "code",
   "execution_count": null,
   "metadata": {
    "collapsed": true
   },
   "outputs": [],
   "source": [
    "func = lambda x: ((rcn_dynamics_ode(x, time, param_set, kin_ini) - single_rcn)**2).sum()"
   ]
  },
  {
   "cell_type": "code",
   "execution_count": null,
   "metadata": {
    "collapsed": false
   },
   "outputs": [],
   "source": [
    "bnds = ((0, 1), (0, 1), (0, ini_t1), (0, ini_t2), (0, ini_t3), (0, ini_t4))\n",
    "ret = minimize(func, x0=(kin_fin*2, kin_fin, ini_t1, ini_t2, ini_t3, ini_t4), bounds=bnds, method='L-BFGS-B')"
   ]
  },
  {
   "cell_type": "code",
   "execution_count": null,
   "metadata": {
    "collapsed": false,
    "scrolled": true
   },
   "outputs": [],
   "source": [
    "ax1 = plt.subplot(1,2,1)\n",
    "h1 = plt.plot(time, rcn_dynamics_ode(ret.x, time, param_set, kin_ini))\n",
    "plt.hold(True)\n",
    "h2 = plt.plot(time, single_rcn, 'r')\n",
    "ax1.set_ylabel('C/N ratio')\n",
    "\n",
    "ax2 = plt.subplot(1,2,2)\n",
    "\n",
    "ct1, ct2, ct3, ct4 = normt1_to_ct1(ret.x[2], ret.x[3], ret.x[4], ret.x[5], time)\n",
    "kin_ts = np.interp(time, [ct1, ct2, ct3, ct4, time[-1]], [kin_ini, ret.x[0], ret.x[0], ret.x[1], ret.x[1]])\n",
    "plt.plot(time, kin_ts)\n",
    "ax2.set_ylabel('Kinase concentration (uM)')"
   ]
  },
  {
   "cell_type": "code",
   "execution_count": null,
   "metadata": {
    "collapsed": false
   },
   "outputs": [],
   "source": [
    "# Put the steps above into this.\n",
    "def estim_kin_ts(time, single_rcn, pset, k_iu, k_ip, k_eu, k_ep):\n",
    "    ct1, ct2, ct3, ct4, c1, c2, c3 = fit_trapezoid(time, single_rcn)\n",
    "    pset['k_iu'] = k_iu\n",
    "    pset['k_ip'] = k_ip\n",
    "    pset['k_eu'] = k_eu\n",
    "    pset['k_ep'] = k_ep\n",
    "    kin_ini = estim_steady_state_kinase(c1, pset, bnd_max=KIN_MAX)\n",
    "    kin_fin = estim_steady_state_kinase(c3, pset, bnd_max=KIN_MAX)\n",
    "    \n",
    "    func = lambda x: ((rcn_dynamics_ode(x, time, param_set, kin_ini) - single_rcn)**2).sum()\n",
    "    bnds = ((0, 1), (0, 1), (0, ini_t1), (0, ini_t2), (0, ini_t3), (0, ini_t4))\n",
    "    ret = minimize(func, x0=(kin_fin*3, kin_fin, ini_t1, ini_t2, ini_t3, ini_t4), bounds=bnds, method='L-BFGS-B', tol=1e-4)\n",
    "\n",
    "    estim_rcn = rcn_dynamics_ode(ret.x, time, param_set, kin_ini)\n",
    "    ct1, ct2, ct3, ct4 = normt1_to_ct1(ret.x[2], ret.x[3], ret.x[4], ret.x[5], time)\n",
    "    estim_kin = np.interp(time, [ct1, ct2, ct3, ct4, time[-1]], [kin_ini, ret.x[0], ret.x[0], ret.x[1], ret.x[1]])\n",
    "    return estim_rcn, estim_kin"
   ]
  },
  {
   "cell_type": "code",
   "execution_count": null,
   "metadata": {
    "collapsed": false,
    "scrolled": true
   },
   "outputs": [],
   "source": [
    "plt.figure(figsize=(20, 10))\n",
    "median_ratio = site_il1b.data['cytoplasm', 'TRITC', 'median_ratio']\n",
    "median_ratio = savgol_filter(median_ratio, window_length=9, polyorder=3, axis=1)  # smoothing\n",
    "cell_ids = range(5)\n",
    "for num, cell_id in enumerate(cell_ids):\n",
    "    single_rcn = median_ratio[cell_id]\n",
    "    print '{0} estimating...'.format(cell_id)\n",
    "    estim_rcn, estim_kin = estim_kin_ts(time, single_rcn, param_set,  k_iu_sc[cell_id], k_ip_sc[cell_id], k_eu_sc[cell_id], k_ep_sc[cell_id])\n",
    "    ax1 = plt.subplot(2, 5, num+1)\n",
    "    plt.plot(time, estim_rcn, time, single_rcn)\n",
    "    ax1.set_ylabel('C/N ratio')\n",
    "    ax1.set_ylim([0, 1])\n",
    "    ax2 = plt.subplot(2, 5, num+1+5)\n",
    "    plt.plot(time, estim_kin)\n",
    "    ax2.set_ylabel('Kinase concentration (uM)')"
   ]
  },
  {
   "cell_type": "code",
   "execution_count": null,
   "metadata": {
    "collapsed": false,
    "scrolled": true
   },
   "outputs": [],
   "source": []
  },
  {
   "cell_type": "code",
   "execution_count": null,
   "metadata": {
    "collapsed": false
   },
   "outputs": [],
   "source": [
    "store = []\n",
    "cell_ids = range(median_ratio.shape[0])\n",
    "for num, cell_id in enumerate(cell_ids):\n",
    "    single_rcn = median_ratio[cell_id]\n",
    "#     print '{0} estimating...'.format(cell_id)\n",
    "    estim_rcn, estim_kin = estim_kin_ts(time, single_rcn, param_set,  k_iu_sc[cell_id], k_ip_sc[cell_id], k_eu_sc[cell_id], k_ep_sc[cell_id])    \n",
    "    store.append((single_rcn, estim_rcn, estim_kin))"
   ]
  },
  {
   "cell_type": "code",
   "execution_count": null,
   "metadata": {
    "collapsed": false
   },
   "outputs": [],
   "source": []
  },
  {
   "cell_type": "code",
   "execution_count": null,
   "metadata": {
    "collapsed": true
   },
   "outputs": [],
   "source": [
    "# get rid of those did not fit well.\n",
    "cleaned_data = [i for i in store if (np.abs(i[1] - i[0])).sum() < 2.5]"
   ]
  },
  {
   "cell_type": "code",
   "execution_count": null,
   "metadata": {
    "collapsed": false
   },
   "outputs": [],
   "source": [
    "idx = np.argsort(-np.sum([i[2] for i in cleaned_data], axis=1))\n",
    "fig, axes = plt.subplots(1, 3, figsize=(20, 5))\n",
    "axes.tolist()\n",
    "sns.heatmap([cleaned_data[i][0] for i in idx], robust=True, ax=axes[0])\n",
    "sns.heatmap([cleaned_data[i][1] for i in idx], robust=True, ax=axes[1])\n",
    "sns.heatmap([cleaned_data[i][2]*1000 for i in idx], robust=True, ax=axes[2])\n",
    "[ax.set_title(i) for ax, i in zip(axes, ('C/N ratio (A.U.)', 'Reproduced C/N ratio (A.U.)', 'Predicted active JNK (nM)'))];\n",
    "[ax.set_yticklabels(\"\") for ax in axes];\n",
    "[ax.set_xticks([0, 18, 38, 58]) for ax in axes];\n",
    "[ax.set_xticklabels([time[0], time[18], time[38], time[58]]) for ax in axes];\n",
    "[ax.set_xlabel(\"time (/min)\") for ax in axes];"
   ]
  },
  {
   "cell_type": "code",
   "execution_count": null,
   "metadata": {
    "collapsed": true
   },
   "outputs": [],
   "source": []
  },
  {
   "cell_type": "code",
   "execution_count": null,
   "metadata": {
    "collapsed": true
   },
   "outputs": [],
   "source": []
  }
 ],
 "metadata": {
  "kernelspec": {
   "display_name": "Python 2",
   "language": "python",
   "name": "python2"
  },
  "language_info": {
   "codemirror_mode": {
    "name": "ipython",
    "version": 2
   },
   "file_extension": ".py",
   "mimetype": "text/x-python",
   "name": "python",
   "nbconvert_exporter": "python",
   "pygments_lexer": "ipython2",
   "version": "2.7.12"
  }
 },
 "nbformat": 4,
 "nbformat_minor": 0
}
